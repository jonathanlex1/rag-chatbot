{
 "cells": [
  {
   "cell_type": "code",
   "execution_count": null,
   "id": "19fc55d3",
   "metadata": {},
   "outputs": [],
   "source": [
    "#rag with the context only\n",
    "from langchain_community.document_loaders import CSVLoader\n",
    "from langchain_community.document_loaders import PyPDFLoader\n",
    "from langchain_text_splitters import RecursiveCharacterTextSplitter\n",
    "\n",
    "from langchain.vectorstores import Chroma\n",
    "from langchain_groq import ChatGroq\n",
    "from langchain_huggingface import HuggingFaceEmbeddings\n",
    "\n",
    "from langchain.chains import create_retrieval_chain\n",
    "from langchain.chains.combine_documents import create_stuff_documents_chain\n",
    "from langchain_core.prompts import ChatPromptTemplate\n",
    "\n",
    "#adding history to rag\n",
    "from langchain_core.messages import HumanMessage, AIMessage\n",
    "from langchain_community.chat_message_histories import ChatMessageHistory\n",
    "from langchain_core.chat_history import BaseChatMessageHistory\n",
    "from langchain_core.runnables.history import RunnableWithMessageHistory\n",
    "from langchain_core.prompts import MessagesPlaceholder\n",
    "from langchain.chains import create_history_aware_retriever\n",
    "\n",
    "from dotenv import load_dotenv\n",
    "import os"
   ]
  },
  {
   "cell_type": "markdown",
   "id": "820a1684",
   "metadata": {},
   "source": [
    "# Load Documents"
   ]
  },
  {
   "cell_type": "code",
   "execution_count": 3,
   "id": "7939eccc",
   "metadata": {},
   "outputs": [],
   "source": [
    "#load each file in dir\n",
    "list_dir = os.listdir('data')\n",
    "paths = [os.path.join('data',path) for path in list_dir]\n",
    "docs_list = []\n",
    "\n",
    "for url_path in paths :\n",
    "    if url_path.endswith('csv') : \n",
    "        csv_loader = CSVLoader(url_path)\n",
    "        docs_list += csv_loader.load()\n",
    "    elif url_path.endswith('pdf') : \n",
    "        pdf_loader = PyPDFLoader(url_path)\n",
    "        pdf_doc = pdf_loader.load()\n",
    "        splitter = RecursiveCharacterTextSplitter(chunk_size=600, chunk_overlap=200)\n",
    "        pdf_doc_splitted = splitter.split_documents(pdf_doc)\n",
    "        docs_list += pdf_doc_splitted"
   ]
  },
  {
   "cell_type": "code",
   "execution_count": 46,
   "id": "bd18d065",
   "metadata": {},
   "outputs": [
    {
     "data": {
      "text/plain": [
       "20887"
      ]
     },
     "execution_count": 46,
     "metadata": {},
     "output_type": "execute_result"
    }
   ],
   "source": [
    "len(docs_list)"
   ]
  },
  {
   "cell_type": "markdown",
   "id": "890d35b0",
   "metadata": {},
   "source": [
    "# Retrieval"
   ]
  },
  {
   "cell_type": "code",
   "execution_count": 4,
   "id": "e6b07f9d",
   "metadata": {},
   "outputs": [
    {
     "name": "stderr",
     "output_type": "stream",
     "text": [
      "c:\\Python Learning\\PYTHON-UDEMY\\langchain_project\\app\\.venv\\Lib\\site-packages\\tqdm\\auto.py:21: TqdmWarning: IProgress not found. Please update jupyter and ipywidgets. See https://ipywidgets.readthedocs.io/en/stable/user_install.html\n",
      "  from .autonotebook import tqdm as notebook_tqdm\n"
     ]
    }
   ],
   "source": [
    "embedding_model = HuggingFaceEmbeddings(model='all-MiniLM-L6-v2')"
   ]
  },
  {
   "cell_type": "code",
   "execution_count": null,
   "id": "b0ac4329",
   "metadata": {},
   "outputs": [],
   "source": [
    "chroma_db = Chroma.from_documents(docs_list, embedding_model, persist_directory='.chroma_index')"
   ]
  },
  {
   "cell_type": "code",
   "execution_count": 5,
   "id": "1af2b253",
   "metadata": {},
   "outputs": [
    {
     "name": "stderr",
     "output_type": "stream",
     "text": [
      "C:\\Users\\Asus\\AppData\\Local\\Temp\\ipykernel_25564\\4128038166.py:1: LangChainDeprecationWarning: The class `Chroma` was deprecated in LangChain 0.2.9 and will be removed in 1.0. An updated version of the class exists in the :class:`~langchain-chroma package and should be used instead. To use it run `pip install -U :class:`~langchain-chroma` and import as `from :class:`~langchain_chroma import Chroma``.\n",
      "  chroma_db = Chroma(persist_directory='.chroma_index/', embedding_function=embedding_model)\n"
     ]
    }
   ],
   "source": [
    "chroma_db = Chroma(persist_directory='.chroma_index/', embedding_function=embedding_model)"
   ]
  },
  {
   "cell_type": "markdown",
   "id": "ec1432ac",
   "metadata": {},
   "source": [
    "# Context Integration"
   ]
  },
  {
   "cell_type": "code",
   "execution_count": 6,
   "id": "f902aaf0",
   "metadata": {},
   "outputs": [],
   "source": [
    "load_dotenv()\n",
    "GROQ_API_KEY = os.getenv('GROQ_API_KEY')"
   ]
  },
  {
   "cell_type": "code",
   "execution_count": 7,
   "id": "343d05b9",
   "metadata": {},
   "outputs": [],
   "source": [
    "llm_model = ChatGroq(model='meta-llama/llama-4-scout-17b-16e-instruct', api_key=GROQ_API_KEY)"
   ]
  },
  {
   "cell_type": "code",
   "execution_count": 9,
   "id": "42f7cfbd",
   "metadata": {},
   "outputs": [],
   "source": [
    "#get context from retriever \n",
    "prompt = ChatPromptTemplate.from_messages([\n",
    "    ('system', 'You are a financial analyst who helps users understand financial data and answer queries.'),\n",
    "    ('human', 'Here is the data:\\n{context}\\n\\nQuestion: {input}')\n",
    "])"
   ]
  },
  {
   "cell_type": "code",
   "execution_count": null,
   "id": "e19c464e",
   "metadata": {},
   "outputs": [],
   "source": [
    "document_chain = create_stuff_documents_chain(llm_model, prompt)"
   ]
  },
  {
   "cell_type": "code",
   "execution_count": 8,
   "id": "c330a544",
   "metadata": {},
   "outputs": [],
   "source": [
    "retriver = chroma_db.as_retriever()"
   ]
  },
  {
   "cell_type": "code",
   "execution_count": null,
   "id": "b0e64200",
   "metadata": {},
   "outputs": [
    {
     "ename": "NameError",
     "evalue": "name 'document_chain' is not defined",
     "output_type": "error",
     "traceback": [
      "\u001b[31m---------------------------------------------------------------------------\u001b[39m",
      "\u001b[31mNameError\u001b[39m                                 Traceback (most recent call last)",
      "\u001b[36mCell\u001b[39m\u001b[36m \u001b[39m\u001b[32mIn[16]\u001b[39m\u001b[32m, line 2\u001b[39m\n\u001b[32m      1\u001b[39m retriver = chroma_db.as_retriever()\n\u001b[32m----> \u001b[39m\u001b[32m2\u001b[39m retriver_chain = create_retrieval_chain(retriver,\u001b[43mdocument_chain\u001b[49m)\n",
      "\u001b[31mNameError\u001b[39m: name 'document_chain' is not defined"
     ]
    }
   ],
   "source": [
    "retriver_chain = create_retrieval_chain(retriver,document_chain)"
   ]
  },
  {
   "cell_type": "markdown",
   "id": "bf5bb0fd",
   "metadata": {},
   "source": [
    "# LLM Response"
   ]
  },
  {
   "cell_type": "code",
   "execution_count": null,
   "id": "eb9fd7a5",
   "metadata": {},
   "outputs": [],
   "source": [
    "result = retriver_chain.invoke({\n",
    "    'input' : 'Give me insight about loan approvals for low income applicants.'\n",
    "})  "
   ]
  },
  {
   "cell_type": "code",
   "execution_count": 13,
   "id": "e6264c54",
   "metadata": {},
   "outputs": [
    {
     "name": "stdout",
     "output_type": "stream",
     "text": [
      "Based on the provided data, I'll analyze the loan approvals for low-income applicants.\n",
      "\n",
      "**Definition of Low Income:**\n",
      "For the purpose of this analysis, let's consider low-income applicants as those with an ApplicantIncome less than ₹4000.\n",
      "\n",
      "**Low-Income Applicants:**\n",
      "From the provided data, the following loan applications have an ApplicantIncome less than ₹4000:\n",
      "\n",
      "1. LP001034: ApplicantIncome = ₹3596 (Loan Status: Y)\n",
      "2. LP001770: ApplicantIncome = ₹3189 (Loan Status: Y)\n",
      "\n",
      "**Insights:**\n",
      "\n",
      "* Both low-income applicants (LP001034 and LP001770) have been approved for loans (Loan Status: Y).\n",
      "* The approved loan amounts for these applicants are ₹100 and ₹120, respectively.\n",
      "* Although the loan amounts are relatively small, it indicates that the lender is willing to approve loans for low-income applicants.\n",
      "* The credit history of LP001770 is 1, which might be a factor in the loan approval. However, the credit history of LP001034 is missing, so we can't draw any conclusions from that.\n",
      "\n",
      "**Additional Observations:**\n",
      "\n",
      "* LP001034 has a CoapplicantIncome of ₹0, which might indicate that they are applying for the loan alone.\n",
      "* LP001770 has a CoapplicantIncome of ₹2598, which could be a factor in the loan approval.\n",
      "\n",
      "**Conclusion:**\n",
      "Based on this limited data, it appears that the lender does approve loans for low-income applicants, but the loan amounts are relatively small. The lender might consider other factors such as credit history, coapplicant income, and property area when evaluating loan applications from low-income individuals. A more extensive analysis with a larger dataset would be required to draw more robust conclusions.\n"
     ]
    }
   ],
   "source": [
    "print(result['answer'])"
   ]
  },
  {
   "cell_type": "code",
   "execution_count": 65,
   "id": "ef5baae1",
   "metadata": {},
   "outputs": [],
   "source": [
    "result = retriver_chain.invoke({\n",
    "    'input' : 'You just gave me the answer, please make it more simple text'\n",
    "})"
   ]
  },
  {
   "cell_type": "code",
   "execution_count": 67,
   "id": "73ab74ca",
   "metadata": {},
   "outputs": [
    {
     "name": "stdout",
     "output_type": "stream",
     "text": [
      "**Comprehensive Financial Data Analysis**\n",
      "\n",
      "The provided dataset consists of four loan applications with various financial attributes. This analysis aims to identify key patterns, correlations, and anomalies within the data.\n",
      "\n",
      "### **Overview of Key Financial Metrics**\n",
      "\n",
      "* **Loan Amount and Duration**: The loan amounts range from $20,592 to $45,282, with durations varying from 36 to 60 months.\n",
      "* **Income and Debt**: Annual incomes range from $20,196 to $81,573, with monthly debt payments between $264 and $679.\n",
      "* **Credit Scores and Risk Scores**: Credit scores range from 467 to 606, and risk scores range from 45 to 61.\n",
      "\n",
      "### **Correlation Analysis**\n",
      "\n",
      "* **Credit Score and Risk Score**: A higher credit score appears to be associated with a lower risk score, indicating a potential inverse relationship.\n",
      "* **Income and Debt-to-Income Ratio**: There is no clear correlation between income and debt-to-income ratio, suggesting that higher incomes do not necessarily translate to lower debt burdens.\n",
      "* **Loan Amount and Monthly Loan Payment**: The loan amount and monthly loan payment are positively correlated, indicating that larger loan amounts result in higher monthly payments.\n",
      "\n",
      "### **Anomaly Detection**\n",
      "\n",
      "* **Application 4**: The debt-to-income ratio (0.436) and total debt-to-income ratio (0.782) are significantly higher than the other applications, indicating a potentially high-risk borrower.\n",
      "* **Application 2**: The credit card utilization rate (0.158) is relatively low compared to the other applications, suggesting responsible credit behavior.\n",
      "\n",
      "### **Key Observations**\n",
      "\n",
      "* **Employment Status**: Three applicants are employed, while one is self-employed.\n",
      "* **Education Level**: Three applicants have a Bachelor's degree, while one has an Associate's degree.\n",
      "* **Home Ownership Status**: Two applicants have a mortgage, one rents, and one has an unknown status.\n",
      "\n",
      "### **Insights and Recommendations**\n",
      "\n",
      "* **Risk Assessment**: Applications 4 and 1 have higher risk scores (61 and 54, respectively), indicating potential credit risks.\n",
      "* **Loan Approval**: All applications were not approved (LoanApproved = 0), suggesting that the lender has a strict approval process.\n",
      "\n",
      "### **Additional Data Needed**\n",
      "\n",
      "* **Industry-specific data**: To better understand the applicants' financial situations, industry-specific data (e.g., sector, job role) could provide more context.\n",
      "* **Historical data**: Access to historical data on the applicants' past loan performance and credit behavior would enhance the analysis.\n",
      "\n",
      "By analyzing the provided dataset, we have identified key financial patterns, correlations, and anomalies. These insights can inform lending decisions and provide a more comprehensive understanding of the applicants' creditworthiness.\n"
     ]
    }
   ],
   "source": [
    "print(result['answer'])"
   ]
  },
  {
   "cell_type": "markdown",
   "id": "898344c1",
   "metadata": {},
   "source": [
    "## RAG with History \n",
    "create prompt template with history (MessagesPlaceholder('chat_history')) -> create retriever history dengan menggabungkan retriever, llm dan history prompt (create_history_aware_retriever) -> prompt -> chain llm dengan prompt (create_stuff_docuement_chain) -> retrieval chain antara history retriever dan chain llm prompt (rag chain) -> untuk menggunakan chatbot simpan history kedalam list yang berisikan AIMessage dan HumanMessage"
   ]
  },
  {
   "cell_type": "code",
   "execution_count": 10,
   "id": "0ac1752c",
   "metadata": {},
   "outputs": [],
   "source": [
    "contextualized_system_prompt_template = \"\"\"\n",
    "You are a helpful assistant specialized in data analysis and answering questions about datasets.\n",
    "\n",
    "Your job is to rephrase follow-up questions into fully standalone questions by using the previous chat history for context.\n",
    "\n",
    "Only output the rephrased standalone question. Do not answer the question.\n",
    "\"\"\""
   ]
  },
  {
   "cell_type": "code",
   "execution_count": 11,
   "id": "85bd5f7b",
   "metadata": {},
   "outputs": [],
   "source": [
    "contextualized_system_prompt = ChatPromptTemplate.from_messages([\n",
    "    ('system', contextualized_system_prompt_template),\n",
    "    (MessagesPlaceholder('chat_history')),\n",
    "    ('human', \"{input}\")\n",
    "])"
   ]
  },
  {
   "cell_type": "code",
   "execution_count": 12,
   "id": "e536f5b1",
   "metadata": {},
   "outputs": [],
   "source": [
    "retriever_aware_history = create_history_aware_retriever(llm_model, retriver, contextualized_system_prompt)"
   ]
  },
  {
   "cell_type": "code",
   "execution_count": 13,
   "id": "e616681f",
   "metadata": {},
   "outputs": [],
   "source": [
    "#create prompt to for the context and history \n",
    "qa_prompt = ChatPromptTemplate.from_messages([\n",
    "    ('system', 'You are a financial analyst who helps users understand financial data and answer queries.'),\n",
    "    (MessagesPlaceholder('chat_history')),\n",
    "    ('human', 'Here is the data:\\n{context}\\n\\nQuestion: {input}')\n",
    "])"
   ]
  },
  {
   "cell_type": "code",
   "execution_count": 14,
   "id": "ff5a2431",
   "metadata": {},
   "outputs": [],
   "source": [
    "#chain llm dan qa_prompt\n",
    "llm_context_chain = create_stuff_documents_chain(llm_model, qa_prompt)"
   ]
  },
  {
   "cell_type": "code",
   "execution_count": 15,
   "id": "111024e9",
   "metadata": {},
   "outputs": [],
   "source": [
    "#chain the retriever aware history and llm with context\n",
    "rag_chain = create_retrieval_chain(retriever_aware_history, llm_context_chain)"
   ]
  },
  {
   "cell_type": "markdown",
   "id": "9754922d",
   "metadata": {},
   "source": [
    "### Chat History in list\n",
    "- hanya satu pengguna\n",
    "- belum butuh penyimpanan dalam jangka panjang\n",
    "- hanya satu arah"
   ]
  },
  {
   "cell_type": "code",
   "execution_count": 34,
   "id": "ccf681e3",
   "metadata": {},
   "outputs": [
    {
     "name": "stdout",
     "output_type": "stream",
     "text": [
      "Based on the provided data, I'll analyze the loan approvals for low-income applicants.\n",
      "\n",
      "**Low-Income Applicants:**\n",
      "To define low-income applicants, let's assume an ApplicantIncome below 4000. From the data, we have:\n",
      "\n",
      "1. LP001034: ApplicantIncome = 3596, Loan_Status = Y (Approved)\n",
      "2. LP001770: ApplicantIncome = 3189, Loan_Status = Y (Approved)\n",
      "\n",
      "**Insights:**\n",
      "\n",
      "* Both low-income applicants (LP001034 and LP001770) have been approved for loans.\n",
      "* Despite having a lower ApplicantIncome, LP001770 has a CoapplicantIncome of 2598, which might have positively impacted the loan approval.\n",
      "* LP001034 has a relatively low LoanAmount of 100, which might have made it more feasible for the applicant to repay.\n",
      "\n",
      "**Common Characteristics of Approved Low-Income Applicants:**\n",
      "\n",
      "* Both are male.\n",
      "* Not graduates (Education: Not Graduate).\n",
      "* Not self-employed (Self_Employed: No).\n",
      "* Have a relatively low LoanAmount compared to their ApplicantIncome.\n",
      "\n",
      "**Critical Factors for Low-Income Applicants:**\n",
      "\n",
      "* Credit_History: Both LP001770 has a Credit_History of 1, which indicates a good credit history. LP001034's Credit_History is missing, but it's possible that it's not a significant concern for low-income applicants.\n",
      "* Property_Area: LP001034 is from an Urban area, while LP001770 is from a Rural area. This might not be a significant factor in loan approvals for low-income applicants.\n",
      "\n",
      "**Recommendations:**\n",
      "\n",
      "* For low-income applicants, having a co-applicant with a stable income might improve the chances of loan approval.\n",
      "* A good credit history (Credit_History: 1) can positively impact loan approvals.\n",
      "* Low-income applicants might have better chances of approval for smaller loan amounts.\n",
      "\n",
      "Keep in mind that these insights are based on a limited dataset and might not be representative of the entire population. A more extensive analysis with a larger dataset would provide more accurate and comprehensive insights.\n"
     ]
    }
   ],
   "source": [
    "chat_history = []\n",
    "\n",
    "question = 'Give me insight about loan approvals for low income applicants.'\n",
    "response = rag_chain.invoke({\n",
    "    'input' : question, \n",
    "    'chat_history' : chat_history\n",
    "})\n",
    "print(response['answer'])\n",
    "\n",
    "chat_history.extend([\n",
    "    (HumanMessage(content=question)),\n",
    "    (AIMessage(content=response['answer']))\n",
    "])"
   ]
  },
  {
   "cell_type": "code",
   "execution_count": 36,
   "id": "b17ea0cb",
   "metadata": {},
   "outputs": [
    {
     "name": "stdout",
     "output_type": "stream",
     "text": [
      "2\n"
     ]
    }
   ],
   "source": [
    "print(len(chat_history))"
   ]
  },
  {
   "cell_type": "code",
   "execution_count": 32,
   "id": "2cfd70ae",
   "metadata": {},
   "outputs": [
    {
     "name": "stdout",
     "output_type": "stream",
     "text": [
      "Let's break down the loan approvals for low-income applicants:\n",
      "\n",
      "**Low-Income Applicants:**\n",
      "\n",
      "* LP001034: ApplicantIncome = 3596, CoapplicantIncome = 0, Loan_Status = Approved (Y)\n",
      "* LP001586: ApplicantIncome = 3522, CoapplicantIncome = 0, Loan_Status = Not Approved (N)\n",
      "* LP001722: ApplicantIncome = 150, CoapplicantIncome = 1800, Loan_Status = Not Approved (N)\n",
      "\n",
      "**Insights:**\n",
      "\n",
      "1. **Income matters, but not always**: LP001034 was approved with a low ApplicantIncome, while LP001586 was not approved with a similar income.\n",
      "2. **Coapplicant income can help**: LP001722 had a low ApplicantIncome, but a high CoapplicantIncome, and still wasn't approved.\n",
      "3. **Credit History and other factors play a role**: LP001586 and LP001722 had a good Credit_History (1), but still weren't approved.\n",
      "\n",
      "**Simple Takeaways:**\n",
      "\n",
      "* Low-income applicants can get approved (LP001034).\n",
      "* Income and CoapplicantIncome are important, but not the only factors.\n",
      "* Credit History and other factors like Property_Area and LoanAmount also influence loan approvals.\n"
     ]
    }
   ],
   "source": [
    "question = 'Make it more simple'\n",
    "response = rag_chain.invoke({\n",
    "    'input' : question, \n",
    "    'chat_history' : chat_history\n",
    "})\n",
    "print(response['answer'])"
   ]
  },
  {
   "cell_type": "code",
   "execution_count": 37,
   "id": "dbd27b9d",
   "metadata": {},
   "outputs": [
    {
     "name": "stdout",
     "output_type": "stream",
     "text": [
      "LLM stands for Large Language Model. It refers to a type of artificial intelligence (AI) model designed to process and understand human language. LLMs are trained on vast amounts of text data and can generate human-like responses to a wide range of questions and prompts.\n",
      "\n",
      "In the context of our conversation, I'm an example of an LLM, as I'm a computer program designed to understand and respond to natural language inputs. I'm trained on a massive dataset of text and can generate responses to various questions and topics, including financial analysis and insights, as we discussed earlier.\n",
      "\n",
      "Some common applications of LLMs include:\n",
      "\n",
      "1. Virtual assistants: LLMs can power virtual assistants, such as chatbots or voice assistants, to provide customer support or answer frequently asked questions.\n",
      "2. Language translation: LLMs can be used for language translation, allowing users to communicate across languages.\n",
      "3. Text summarization: LLMs can summarize long pieces of text into concise, easily digestible versions.\n",
      "4. Content generation: LLMs can generate content, such as articles, blog posts, or social media posts, based on a given prompt or topic.\n",
      "\n",
      "In our conversation, I'm using my LLM capabilities to analyze the provided data, understand your questions, and provide insights and responses.\n"
     ]
    }
   ],
   "source": [
    "question = 'What is LLM ?'\n",
    "response = rag_chain.invoke({\n",
    "    'input' : question, \n",
    "    'chat_history' : chat_history\n",
    "})\n",
    "print(response['answer'])"
   ]
  },
  {
   "cell_type": "markdown",
   "id": "507da234",
   "metadata": {},
   "source": [
    "### Chat History with configuration Session id \n",
    "\n",
    "- membuat chat dapat menyimpan dan mengingat riwayat obrolan di tiap sesi\n",
    "- dapat menyimpan dan memanggil riwayat dari tiap sesi tanpa bentrok\n",
    "- RunnableWithMessageHistory\n",
    "- cocok digunakan untuk aplikasi multi user (streamlit, fastapi)\n",
    "- penyimpanan jangka panjang\n",
    "- history otomatis terpanggil\n",
    "- bebas berapa banyak history yang diingat"
   ]
  },
  {
   "cell_type": "code",
   "execution_count": 16,
   "id": "437a7cf9",
   "metadata": {},
   "outputs": [],
   "source": [
    "#set up config \n",
    "store = {}\n",
    "def get_config_history(session_id) -> BaseChatMessageHistory : \n",
    "    if session_id not in store : \n",
    "        store[session_id] = ChatMessageHistory()\n",
    "    return store[session_id]"
   ]
  },
  {
   "cell_type": "code",
   "execution_count": null,
   "id": "261f08b7",
   "metadata": {},
   "outputs": [
    {
     "data": {
      "text/plain": [
       "RunnableWithMessageHistory(bound=RunnableBinding(bound=RunnableBinding(bound=RunnableAssign(mapper={\n",
       "  chat_history: RunnableBinding(bound=RunnableLambda(_enter_history), kwargs={}, config={'run_name': 'load_history'}, config_factories=[])\n",
       "}), kwargs={}, config={'run_name': 'insert_history'}, config_factories=[])\n",
       "| RunnableBinding(bound=RunnableLambda(_call_runnable_sync), kwargs={}, config={'run_name': 'check_sync_or_async'}, config_factories=[]), kwargs={}, config={'run_name': 'RunnableWithMessageHistory'}, config_factories=[]), kwargs={}, config={}, config_factories=[], get_session_history=<function get_config_history at 0x0000020512A92FC0>, input_messages_key='input', output_messages_key='answer', history_messages_key='chat_history', history_factory_config=[ConfigurableFieldSpec(id='session_id', annotation=<class 'str'>, name='Session ID', description='Unique identifier for a session.', default='', is_shared=True, dependencies=None)])"
      ]
     },
     "execution_count": 21,
     "metadata": {},
     "output_type": "execute_result"
    }
   ],
   "source": [
    "#adding history feature to rag \n",
    "rag_with_config_history = RunnableWithMessageHistory(rag_chain, get_config_history, input_messages_key='input', history_messages_key='chat_history', output_messages_key='answer')\n",
    "rag_with_config_history"
   ]
  },
  {
   "cell_type": "code",
   "execution_count": 22,
   "id": "98e7fc17",
   "metadata": {},
   "outputs": [],
   "source": [
    "config = {\n",
    "    'configurable' : {\n",
    "        'session_id' : 'chat1'\n",
    "    }\n",
    "}"
   ]
  },
  {
   "cell_type": "code",
   "execution_count": 24,
   "id": "0b2bbf8d",
   "metadata": {},
   "outputs": [
    {
     "data": {
      "text/plain": [
       "'Based on the provided text, the following types of individuals or entities may need to approve a loan:\\n\\n1. **Governmental agencies**\\n2. **Preexisting secured parties** (e.g., existing lenders or creditors)\\n3. **Landlords** and other **lessees** (if the business is leasing property or equipment)\\n4. **Equity investors** (e.g., shareholders or owners who have invested in the business)\\n\\nAdditionally, borrowers should also consult with their own:\\n\\n1. **Legal counsel** (lawyer or attorney)\\n2. **Bankers**\\n3. **Accountants**\\n4. **Other professional advisors**\\n\\nThese individuals can help borrowers navigate the loan process and ensure they understand the terms and conditions of the loan.'"
      ]
     },
     "execution_count": 24,
     "metadata": {},
     "output_type": "execute_result"
    }
   ],
   "source": [
    "rag_with_config_history.invoke(\n",
    "    {'input': 'What kind person to let them approve their loan'},\n",
    "    config={\n",
    "    'configurable' : {\n",
    "        'session_id' : 'chat1'\n",
    "    }\n",
    "}\n",
    ")['answer']"
   ]
  },
  {
   "cell_type": "code",
   "execution_count": 26,
   "id": "a7165a46",
   "metadata": {},
   "outputs": [
    {
     "name": "stdout",
     "output_type": "stream",
     "text": [
      "Based on the provided data, I'll analyze the characteristics of individuals whose loans were approved (Loan_Status: Y) and provide insights on the requirements for loan approval.\n",
      "\n",
      "**Approved Loans (Loan_Status: Y)**\n",
      "\n",
      "1. **LP001034**\n",
      "* Gender: Male\n",
      "* Married: No\n",
      "* Dependents:1\n",
      "* Education: Not Graduate\n",
      "* Self_Employed: No\n",
      "* ApplicantIncome:3596\n",
      "* CoapplicantIncome:0\n",
      "* LoanAmount:100\n",
      "* Credit_History: (missing value)\n",
      "* Property_Area: Urban\n",
      "\n",
      "2. **LP001819**\n",
      "* Gender: Male\n",
      "* Married: Yes\n",
      "* Dependents:1\n",
      "* Education: Not Graduate\n",
      "* Self_Employed: No\n",
      "* ApplicantIncome:6608\n",
      "* CoapplicantIncome:0\n",
      "* LoanAmount:137\n",
      "* Credit_History:1\n",
      "* Property_Area: Urban\n",
      "\n",
      "**Common Characteristics of Approved Loans**\n",
      "\n",
      "1. **Gender**: Both approved loans are for males.\n",
      "2. **Education**: Both have not graduated.\n",
      "3. **Self_Employed**: Neither is self-employed.\n",
      "4. **Property_Area**: Both are from urban areas.\n",
      "5. **Credit_History**: One has a Credit_History of1, and the other has a missing value.\n",
      "\n",
      "**Requirements for Loan Approval**\n",
      "\n",
      "Based on the analysis, the following requirements may be considered for loan approval:\n",
      "\n",
      "1. **Gender**: Male\n",
      "2. **Education**: Not necessarily a graduate\n",
      "3. **Self_Employed**: Not self-employed\n",
      "4. **Property_Area**: Urban\n",
      "5. **Credit_History**: Good Credit_History (e.g.,1) may be required\n",
      "6. **ApplicantIncome**: A relatively high ApplicantIncome (e.g., > 3596) may be required\n",
      "7. **Dependents**: Having1 dependent may not be a significant issue\n",
      "\n",
      "**Insights**\n",
      "\n",
      "* A good Credit_History and a relatively high ApplicantIncome seem to be important factors in loan approval.\n",
      "* Being male, not a graduate, and not self-employed do not appear to be significant barriers to loan approval.\n",
      "* Property_Area being urban may be a favorable factor.\n",
      "\n",
      "Keep in mind that this analysis is based on a limited dataset and should not be considered as a definitive guide for loan approval. A more extensive dataset and advanced analytics would provide more accurate insights.\n"
     ]
    }
   ],
   "source": [
    "response = rag_with_config_history.invoke(\n",
    "    {'input': 'How the person requirements if their loan is approaved'},\n",
    "    config={\n",
    "    'configurable' : {\n",
    "        'session_id' : 'chat1'\n",
    "    }\n",
    "}\n",
    ")['answer']\n",
    "\n",
    "print(response)"
   ]
  },
  {
   "cell_type": "code",
   "execution_count": null,
   "id": "f1a6aee1",
   "metadata": {},
   "outputs": [],
   "source": []
  }
 ],
 "metadata": {
  "kernelspec": {
   "display_name": ".venv",
   "language": "python",
   "name": "python3"
  },
  "language_info": {
   "codemirror_mode": {
    "name": "ipython",
    "version": 3
   },
   "file_extension": ".py",
   "mimetype": "text/x-python",
   "name": "python",
   "nbconvert_exporter": "python",
   "pygments_lexer": "ipython3",
   "version": "3.11.4"
  }
 },
 "nbformat": 4,
 "nbformat_minor": 5
}
