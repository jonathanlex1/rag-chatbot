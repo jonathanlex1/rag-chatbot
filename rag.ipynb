{
 "cells": [
  {
   "cell_type": "code",
   "execution_count": 4,
   "id": "f10f3fd4",
   "metadata": {},
   "outputs": [],
   "source": [
    "#rag with the context only\n",
    "from langchain_community.document_loaders import CSVLoader\n",
    "from langchain_community.document_loaders import PyPDFLoader\n",
    "from langchain_text_splitters import RecursiveCharacterTextSplitter\n",
    "\n",
    "from langchain.vectorstores import Chroma\n",
    "from langchain_groq import ChatGroq\n",
    "from langchain_huggingface import HuggingFaceEmbeddings\n",
    "\n",
    "from langchain.chains import create_retrieval_chain\n",
    "from langchain.chains.combine_documents import create_stuff_documents_chain\n",
    "from langchain_core.prompts import ChatPromptTemplate\n",
    "\n",
    "#adding history to rag\n",
    "from langchain_core.messages import HumanMessage, AIMessage\n",
    "from langchain_community.chat_message_histories import ChatMessageHistory\n",
    "from langchain_core.chat_history import BaseChatMessageHistory\n",
    "from langchain_core.runnables.history import RunnableWithMessageHistory\n",
    "from langchain_core.prompts import MessagesPlaceholder\n",
    "from langchain.chains import create_history_aware_retriever\n",
    "\n",
    "from dotenv import load_dotenv\n",
    "import os"
   ]
  },
  {
   "cell_type": "markdown",
   "id": "8e077957",
   "metadata": {},
   "source": [
    "# Load Documents"
   ]
  },
  {
   "cell_type": "code",
   "execution_count": 5,
   "id": "b89a915c",
   "metadata": {},
   "outputs": [],
   "source": [
    "#load each file in dir\n",
    "list_dir = os.listdir('data')\n",
    "paths = [os.path.join('data',path) for path in list_dir]\n",
    "docs_list = []\n",
    "\n",
    "for url_path in paths :\n",
    "    if url_path.endswith('csv') : \n",
    "        csv_loader = CSVLoader(url_path)\n",
    "        docs_list += csv_loader.load()\n",
    "    elif url_path.endswith('pdf') : \n",
    "        pdf_loader = PyPDFLoader(url_path)\n",
    "        pdf_doc = pdf_loader.load()\n",
    "        splitter = RecursiveCharacterTextSplitter(chunk_size=600, chunk_overlap=200)\n",
    "        pdf_doc_splitted = splitter.split_documents(pdf_doc)\n",
    "        docs_list += pdf_doc_splitted"
   ]
  },
  {
   "cell_type": "code",
   "execution_count": 6,
   "id": "149db508",
   "metadata": {},
   "outputs": [
    {
     "data": {
      "text/plain": [
       "20887"
      ]
     },
     "execution_count": 6,
     "metadata": {},
     "output_type": "execute_result"
    }
   ],
   "source": [
    "len(docs_list)"
   ]
  },
  {
   "cell_type": "markdown",
   "id": "5f6b9f90",
   "metadata": {},
   "source": [
    "# Retrieval"
   ]
  },
  {
   "cell_type": "code",
   "execution_count": 7,
   "id": "4f5c2f98",
   "metadata": {},
   "outputs": [
    {
     "name": "stderr",
     "output_type": "stream",
     "text": [
      "c:\\Python Learning\\PYTHON-UDEMY\\langchain_project\\loan_assistant_rag\\.venv\\Lib\\site-packages\\tqdm\\auto.py:21: TqdmWarning: IProgress not found. Please update jupyter and ipywidgets. See https://ipywidgets.readthedocs.io/en/stable/user_install.html\n",
      "  from .autonotebook import tqdm as notebook_tqdm\n"
     ]
    }
   ],
   "source": [
    "embedding_model = HuggingFaceEmbeddings(model='all-MiniLM-L6-v2')"
   ]
  },
  {
   "cell_type": "code",
   "execution_count": 9,
   "id": "944f216c",
   "metadata": {},
   "outputs": [],
   "source": [
    "chroma_db = Chroma.from_documents(docs_list, embedding_model, persist_directory='.chroma_index')"
   ]
  },
  {
   "cell_type": "code",
   "execution_count": 10,
   "id": "aeea53d8",
   "metadata": {},
   "outputs": [
    {
     "name": "stderr",
     "output_type": "stream",
     "text": [
      "C:\\Users\\Asus\\AppData\\Local\\Temp\\ipykernel_30144\\4128038166.py:1: LangChainDeprecationWarning: The class `Chroma` was deprecated in LangChain 0.2.9 and will be removed in 1.0. An updated version of the class exists in the :class:`~langchain-chroma package and should be used instead. To use it run `pip install -U :class:`~langchain-chroma` and import as `from :class:`~langchain_chroma import Chroma``.\n",
      "  chroma_db = Chroma(persist_directory='.chroma_index/', embedding_function=embedding_model)\n"
     ]
    }
   ],
   "source": [
    "chroma_db = Chroma(persist_directory='.chroma_index/', embedding_function=embedding_model)"
   ]
  },
  {
   "cell_type": "markdown",
   "id": "c0723837",
   "metadata": {},
   "source": [
    "# Context Integration"
   ]
  },
  {
   "cell_type": "code",
   "execution_count": null,
   "id": "c38993e5",
   "metadata": {},
   "outputs": [],
   "source": [
    "load_dotenv()\n",
    "GROQ_API_KEY = os.getenv('GROQ_API_KEY')"
   ]
  },
  {
   "cell_type": "code",
   "execution_count": null,
   "id": "6617461d",
   "metadata": {},
   "outputs": [],
   "source": [
    "llm_model = ChatGroq(model='meta-llama/llama-4-scout-17b-16e-instruct', api_key=GROQ_API_KEY)"
   ]
  },
  {
   "cell_type": "code",
   "execution_count": null,
   "id": "064c1bf9",
   "metadata": {},
   "outputs": [],
   "source": [
    "#get context from retriever \n",
    "prompt = ChatPromptTemplate.from_messages([\n",
    "    ('system', 'You are a financial analyst who helps users understand financial data and answer queries.'),\n",
    "    ('human', 'Here is the data:\\n{context}\\n\\nQuestion: {input}')\n",
    "])"
   ]
  },
  {
   "cell_type": "code",
   "execution_count": null,
   "id": "6e7ed572",
   "metadata": {},
   "outputs": [],
   "source": [
    "document_chain = create_stuff_documents_chain(llm_model, prompt)"
   ]
  },
  {
   "cell_type": "code",
   "execution_count": null,
   "id": "f2379e8f",
   "metadata": {},
   "outputs": [],
   "source": [
    "retriver = chroma_db.as_retriever()"
   ]
  },
  {
   "cell_type": "code",
   "execution_count": null,
   "id": "304e2d76",
   "metadata": {},
   "outputs": [],
   "source": [
    "retriver_chain = create_retrieval_chain(retriver,document_chain)"
   ]
  },
  {
   "cell_type": "markdown",
   "id": "6df9a8ac",
   "metadata": {},
   "source": [
    "# LLM Response"
   ]
  },
  {
   "cell_type": "code",
   "execution_count": null,
   "id": "3d321886",
   "metadata": {},
   "outputs": [],
   "source": [
    "result = retriver_chain.invoke({\n",
    "    'input' : 'Give me insight about loan approvals for low income applicants.'\n",
    "})  "
   ]
  },
  {
   "cell_type": "code",
   "execution_count": null,
   "id": "e8b4bc4b",
   "metadata": {},
   "outputs": [],
   "source": [
    "print(result['answer'])"
   ]
  },
  {
   "cell_type": "code",
   "execution_count": null,
   "id": "3970db49",
   "metadata": {},
   "outputs": [],
   "source": [
    "result = retriver_chain.invoke({\n",
    "    'input' : 'You just gave me the answer, please make it more simple text'\n",
    "})"
   ]
  },
  {
   "cell_type": "code",
   "execution_count": null,
   "id": "fe64c8f7",
   "metadata": {},
   "outputs": [],
   "source": [
    "print(result['answer'])"
   ]
  },
  {
   "cell_type": "markdown",
   "id": "1d749357",
   "metadata": {},
   "source": [
    "## RAG with History \n",
    "create prompt template with history (MessagesPlaceholder('chat_history')) -> create retriever history dengan menggabungkan retriever, llm dan history prompt (create_history_aware_retriever) -> prompt -> chain llm dengan prompt (create_stuff_docuement_chain) -> retrieval chain antara history retriever dan chain llm prompt (rag chain) -> untuk menggunakan chatbot simpan history kedalam list yang berisikan AIMessage dan HumanMessage"
   ]
  },
  {
   "cell_type": "code",
   "execution_count": null,
   "id": "1adbfc58",
   "metadata": {},
   "outputs": [],
   "source": [
    "contextualized_system_prompt_template = \"\"\"\n",
    "You are a helpful assistant specialized in data analysis and answering questions about datasets.\n",
    "\n",
    "Your job is to rephrase follow-up questions into fully standalone questions by using the previous chat history for context.\n",
    "\n",
    "Only output the rephrased standalone question. Do not answer the question.\n",
    "\"\"\""
   ]
  },
  {
   "cell_type": "code",
   "execution_count": null,
   "id": "ea1e581c",
   "metadata": {},
   "outputs": [],
   "source": [
    "contextualized_system_prompt = ChatPromptTemplate.from_messages([\n",
    "    ('system', contextualized_system_prompt_template),\n",
    "    (MessagesPlaceholder('chat_history')),\n",
    "    ('human', \"{input}\")\n",
    "])"
   ]
  },
  {
   "cell_type": "code",
   "execution_count": null,
   "id": "934ad49f",
   "metadata": {},
   "outputs": [],
   "source": [
    "retriever_aware_history = create_history_aware_retriever(llm_model, retriver, contextualized_system_prompt)"
   ]
  },
  {
   "cell_type": "code",
   "execution_count": null,
   "id": "164333fb",
   "metadata": {},
   "outputs": [],
   "source": [
    "#create prompt to for the context and history \n",
    "qa_prompt = ChatPromptTemplate.from_messages([\n",
    "    ('system', 'You are a financial analyst who helps users understand financial data and answer queries.'),\n",
    "    (MessagesPlaceholder('chat_history')),\n",
    "    ('human', 'Here is the data:\\n{context}\\n\\nQuestion: {input}')\n",
    "])"
   ]
  },
  {
   "cell_type": "code",
   "execution_count": null,
   "id": "1b45f373",
   "metadata": {},
   "outputs": [],
   "source": [
    "#chain llm dan qa_prompt\n",
    "llm_context_chain = create_stuff_documents_chain(llm_model, qa_prompt)"
   ]
  },
  {
   "cell_type": "code",
   "execution_count": null,
   "id": "b98c9c96",
   "metadata": {},
   "outputs": [],
   "source": [
    "#chain the retriever aware history and llm with context\n",
    "rag_chain = create_retrieval_chain(retriever_aware_history, llm_context_chain)"
   ]
  },
  {
   "cell_type": "markdown",
   "id": "9ae3f3ac",
   "metadata": {},
   "source": [
    "### Chat History in list\n",
    "- hanya satu pengguna\n",
    "- belum butuh penyimpanan dalam jangka panjang\n",
    "- hanya satu arah"
   ]
  },
  {
   "cell_type": "code",
   "execution_count": null,
   "id": "7b6fa9dd",
   "metadata": {},
   "outputs": [],
   "source": [
    "chat_history = []\n",
    "\n",
    "question = 'Give me insight about loan approvals for low income applicants.'\n",
    "response = rag_chain.invoke({\n",
    "    'input' : question, \n",
    "    'chat_history' : chat_history\n",
    "})\n",
    "print(response['answer'])\n",
    "\n",
    "chat_history.extend([\n",
    "    (HumanMessage(content=question)),\n",
    "    (AIMessage(content=response['answer']))\n",
    "])"
   ]
  },
  {
   "cell_type": "code",
   "execution_count": null,
   "id": "1697787a",
   "metadata": {},
   "outputs": [],
   "source": [
    "print(len(chat_history))"
   ]
  },
  {
   "cell_type": "code",
   "execution_count": null,
   "id": "4cab4b8f",
   "metadata": {},
   "outputs": [],
   "source": [
    "question = 'Make it more simple'\n",
    "response = rag_chain.invoke({\n",
    "    'input' : question, \n",
    "    'chat_history' : chat_history\n",
    "})\n",
    "print(response['answer'])"
   ]
  },
  {
   "cell_type": "code",
   "execution_count": null,
   "id": "1e175d05",
   "metadata": {},
   "outputs": [],
   "source": [
    "question = 'What is LLM ?'\n",
    "response = rag_chain.invoke({\n",
    "    'input' : question, \n",
    "    'chat_history' : chat_history\n",
    "})\n",
    "print(response['answer'])"
   ]
  },
  {
   "cell_type": "markdown",
   "id": "f67bb6fb",
   "metadata": {},
   "source": [
    "### Chat History with configuration Session id \n",
    "\n",
    "- membuat chat dapat menyimpan dan mengingat riwayat obrolan di tiap sesi\n",
    "- dapat menyimpan dan memanggil riwayat dari tiap sesi tanpa bentrok\n",
    "- RunnableWithMessageHistory\n",
    "- cocok digunakan untuk aplikasi multi user (streamlit, fastapi)\n",
    "- penyimpanan jangka panjang\n",
    "- history otomatis terpanggil\n",
    "- bebas berapa banyak history yang diingat"
   ]
  },
  {
   "cell_type": "code",
   "execution_count": null,
   "id": "a90ac16d",
   "metadata": {},
   "outputs": [],
   "source": [
    "#set up config \n",
    "store = {}\n",
    "def get_config_history(session_id) -> BaseChatMessageHistory : \n",
    "    if session_id not in store : \n",
    "        store[session_id] = ChatMessageHistory()\n",
    "    return store[session_id]"
   ]
  },
  {
   "cell_type": "code",
   "execution_count": null,
   "id": "8ca2ce9c",
   "metadata": {},
   "outputs": [],
   "source": [
    "#adding history feature to rag \n",
    "rag_with_config_history = RunnableWithMessageHistory(rag_chain, get_config_history, input_messages_key='input', history_messages_key='chat_history', output_messages_key='answer')\n",
    "rag_with_config_history"
   ]
  },
  {
   "cell_type": "code",
   "execution_count": null,
   "id": "32d747ca",
   "metadata": {},
   "outputs": [],
   "source": [
    "config = {\n",
    "    'configurable' : {\n",
    "        'session_id' : 'chat1'\n",
    "    }\n",
    "}"
   ]
  },
  {
   "cell_type": "code",
   "execution_count": null,
   "id": "ddd1133f",
   "metadata": {},
   "outputs": [],
   "source": [
    "rag_with_config_history.invoke(\n",
    "    {'input': 'What kind person to let them approve their loan'},\n",
    "    config={\n",
    "    'configurable' : {\n",
    "        'session_id' : 'chat1'\n",
    "    }\n",
    "}\n",
    ")['answer']"
   ]
  },
  {
   "cell_type": "code",
   "execution_count": null,
   "id": "d00f0e1c",
   "metadata": {},
   "outputs": [],
   "source": [
    "response = rag_with_config_history.invoke(\n",
    "    {'input': 'How the person requirements if their loan is approaved'},\n",
    "    config={\n",
    "    'configurable' : {\n",
    "        'session_id' : 'chat1'\n",
    "    }\n",
    "}\n",
    ")['answer']\n",
    "\n",
    "print(response)"
   ]
  },
  {
   "cell_type": "code",
   "execution_count": null,
   "id": "157dec38",
   "metadata": {},
   "outputs": [],
   "source": []
  }
 ],
 "metadata": {
  "kernelspec": {
   "display_name": ".venv",
   "language": "python",
   "name": "python3"
  },
  "language_info": {
   "codemirror_mode": {
    "name": "ipython",
    "version": 3
   },
   "file_extension": ".py",
   "mimetype": "text/x-python",
   "name": "python",
   "nbconvert_exporter": "python",
   "pygments_lexer": "ipython3",
   "version": "3.11.4"
  }
 },
 "nbformat": 4,
 "nbformat_minor": 5
}
